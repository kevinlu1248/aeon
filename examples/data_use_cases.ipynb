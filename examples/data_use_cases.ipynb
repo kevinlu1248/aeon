{
 "cells": [
  {
   "cell_type": "markdown",
   "source": [
    "# Data Use Cases\n",
    "\n",
    "This notebook describes some alternative use cases for machine learning data and\n",
    "describes how they can be handled. This primarily relates to collections of time\n",
    "series for classification, regression and\n",
    "\n",
    "1. Missing"
   ],
   "metadata": {
    "collapsed": false
   }
  }
 ],
 "metadata": {
  "kernelspec": {
   "display_name": "Python 3",
   "language": "python",
   "name": "python3"
  },
  "language_info": {
   "codemirror_mode": {
    "name": "ipython",
    "version": 2
   },
   "file_extension": ".py",
   "mimetype": "text/x-python",
   "name": "python",
   "nbconvert_exporter": "python",
   "pygments_lexer": "ipython2",
   "version": "2.7.6"
  }
 },
 "nbformat": 4,
 "nbformat_minor": 0
}
