{
 "cells": [
  {
   "cell_type": "markdown",
   "source": [
    "# Data Characteristics\n",
    "\n",
    "This notebook describes some alternative use cases for machine learning data and\n",
    "describes how they can be handled. This primarily relates to collections of time\n",
    "series for classification, regression and clustering, but is also indicative for\n",
    "other modules. Data characteristics that influence estimators are\n",
    "\n",
    "1. Does the data contain missing values?\n",
    "2. Are the time series unequal length?\n",
    "3. Is the data multivariate?\n",
    "4. Does the data contain time stamps?\n",
    "\n",
    "If your data has any of these characteristics, it may require some preprocessing\n",
    "and it will influence your choice of estimator. We take each in turn\n"
   ],
   "metadata": {
    "collapsed": false
   }
  },
  {
   "cell_type": "markdown",
   "source": [
    "## Missing Values\n",
    "\n",
    "Missing values in `aeon` are recorded as `NaN`. You can test if a collection contains\n",
    " any time series using the\n"
   ],
   "metadata": {
    "collapsed": false
   }
  },
  {
   "cell_type": "code",
   "execution_count": null,
   "outputs": [],
   "source": [
    "import numpy as np\n",
    "\n",
    "missing = np.random.random(size=(10, 1, 100))"
   ],
   "metadata": {
    "collapsed": false
   }
  }
 ],
 "metadata": {
  "kernelspec": {
   "display_name": "Python 3",
   "language": "python",
   "name": "python3"
  },
  "language_info": {
   "codemirror_mode": {
    "name": "ipython",
    "version": 2
   },
   "file_extension": ".py",
   "mimetype": "text/x-python",
   "name": "python",
   "nbconvert_exporter": "python",
   "pygments_lexer": "ipython2",
   "version": "2.7.6"
  }
 },
 "nbformat": 4,
 "nbformat_minor": 0
}
